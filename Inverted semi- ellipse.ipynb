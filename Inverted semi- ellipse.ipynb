{
 "cells": [
  {
   "cell_type": "code",
   "execution_count": 2,
   "metadata": {},
   "outputs": [
    {
     "name": "stdout",
     "output_type": "stream",
     "text": [
      "enter x-coordinate of ellipse:40\n",
      "enter y-coordinate of ellipse:30\n",
      "enter x axis length:16\n",
      "enter y axis length:12\n"
     ]
    },
    {
     "data": {
      "image/png": "[encoded data removed]",
      "text/plain": [
       "<Figure size 1080x1080 with 1 Axes>"
      ]
     },
     "metadata": {
      "needs_background": "light"
     },
     "output_type": "display_data"
    }
   ],
   "source": [
    "import matplotlib.pyplot as plt\n",
    "import cv2\n",
    "import io\n",
    "import numpy as np\n",
    "from PIL import Image\n",
    "\n",
    "def inv_semi_ellipse(a,b,rx,ry):\n",
    "    x=0\n",
    "    y=ry\n",
    "    plt.xlim(x_lower,x_upper)\n",
    "    plt.ylim(y_lower,y_upper)\n",
    "    pk=ry*ry+0.25*rx*rx-rx*rx*y\n",
    "    while 2*ry*ry*x<2*rx*rx*y:\n",
    "        if pk<0:\n",
    "            pk=pk+ry*ry*(1+2*(x+1))\n",
    "            plt.plot((x+a),(-y+b),marker=\"s\",ms=pix,color=\"black\")\n",
    "            arr[x+a][-y+b]=1\n",
    "            plt.plot((-x+a),(-y+b),marker=\"s\",ms=pix,color=\"black\")\n",
    "            arr[-x+a][-y+b]=1\n",
    "            x=x+1\n",
    "            y=y+0\n",
    "        else:\n",
    "            pk=pk+ry*ry*(1+2*(x+1))+2*rx*rx*(1-y)\n",
    "            plt.plot((x+a),(-y+b),marker=\"s\",ms=pix,color=\"black\")\n",
    "            arr[x+a][-y+b]=1\n",
    "            plt.plot((-x+a),(-y+b),marker=\"s\",ms=pix,color=\"black\")\n",
    "            arr[-x+a][-y+b]=1\n",
    "            x=x+1\n",
    "            y=y-1\n",
    "    pk=ry*ry*(x+0.5)**2+rx*rx*(y-1)**2-rx*rx*ry*ry\n",
    "    while 2*ry*ry*x>=2*rx*rx*y:\n",
    "        if x==rx and y==0:\n",
    "            plt.plot((x+a),(y+b),marker=\"s\",ms=pix,color=\"black\")\n",
    "            arr[x+a][y+b]=1\n",
    "            plt.plot((-x+a),(y+b),marker=\"s\",ms=pix,color=\"black\")\n",
    "            arr[-x+a][y+b]=1\n",
    "            break\n",
    "        elif pk<0:\n",
    "            pk=pk+2*ry*ry*(x+1)+rx*rx*(1-2*(y-1))\n",
    "            plt.plot((x+a),(-y+b),marker=\"s\",ms=pix,color=\"black\")\n",
    "            arr[x+a][-y+b]=1\n",
    "            plt.plot((-x+a),(-y+b),marker=\"s\",ms=pix,color=\"black\")\n",
    "            arr[-x+a][-y+b]=1\n",
    "            x=x+1\n",
    "            y=y-1\n",
    "        else:\n",
    "            pk=pk+rx*rx*(1-2*(y-1))\n",
    "            plt.plot((x+a),(-y+b),marker=\"s\",ms=pix,color=\"black\")\n",
    "            arr[x+a][-y+b]=1\n",
    "            plt.plot((-x+a),(-y+b),marker=\"s\",ms=pix,color=\"black\")\n",
    "            arr[-x+a][-y+b]=1\n",
    "            x=x+0\n",
    "            y=y-1\n",
    "    plt.gca().set_aspect('equal',adjustable='box')\n",
    "    plt.grid()\n",
    "    for i in range(-rx+a,rx+a+1):\n",
    "        plt.plot((i),(b),marker=\"s\",ms=pix,color=\"black\")\n",
    "    \"\"\"x_val=[-rx+a,rx+a]\n",
    "    y_val=[b,b]\n",
    "    plt.plot(x_val,y_val,color=\"black\")\n",
    "    x_val=[a,a]\n",
    "    y_val=[-ry+b,ry+b]\n",
    "    plt.plot(x_val,y_val,color=\"black\")\n",
    "    plt.scatter(a,b,color=\"black\")\n",
    "    plt.annotate(\"(x,y)\",(a,b))\"\"\"\n",
    "a=int(input(\"enter x-coordinate of ellipse:\"))\n",
    "b=int(input(\"enter y-coordinate of ellipse:\"))\n",
    "rx=int(input(\"enter x axis length:\"))\n",
    "ry=int(input(\"enter y axis length:\"))\n",
    "r=rx+ry/3\n",
    "x_lower=-1.5*rx+a #lower limit of x axis\n",
    "x_upper=1.5*rx+a #upper limit of x axis\n",
    "y_lower=-1.5*ry+b #lower limit of y axis\n",
    "y_upper=1.5*ry+b #upper limit of y axis\n",
    "fig=15 #figure size of the graph\n",
    "r=max(x_upper-x_lower,y_upper-y_lower) #maximum range\n",
    "plt.rcParams['figure.figsize']=[fig,fig]\n",
    "pix=55.5*fig/r #pixel size;factors figure size(f),maximum range(r);constant=55.5[calculated]\n",
    "rows, cols = (80, 80)\n",
    "arr = [[0]*cols]*rows\n",
    "arr = [ k.copy() for k in arr ]\n",
    "inv_semi_ellipse(a,b,rx,ry)"
   ]
  },
  {
   "cell_type": "code",
   "execution_count": null,
   "metadata": {},
   "outputs": [],
   "source": []
  }
 ],
 "metadata": {
  "kernelspec": {
   "display_name": "Python 3",
   "language": "python",
   "name": "python3"
  },
  "language_info": {
   "codemirror_mode": {
    "name": "ipython",
    "version": 3
   },
   "file_extension": ".py",
   "mimetype": "text/x-python",
   "name": "python",
   "nbconvert_exporter": "python",
   "pygments_lexer": "ipython3",
   "version": "3.7.6"
  }
 },
 "nbformat": 4,
 "nbformat_minor": 4
}
