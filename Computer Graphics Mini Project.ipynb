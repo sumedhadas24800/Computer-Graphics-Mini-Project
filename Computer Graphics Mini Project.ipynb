{
 "cells": [
  {
   "cell_type": "code",
   "execution_count": 5,
   "metadata": {},
   "outputs": [
    {
     "data": {
      "image/png": "[encoded data removed]",
      "text/plain": [
       "<Figure size 432x288 with 2 Axes>"
      ]
     },
     "metadata": {
      "needs_background": "light"
     },
     "output_type": "display_data"
    }
   ],
   "source": [
    "import matplotlib.pyplot as plt\n",
    "data = [[1, 2, 3], [4, 5, 6], [7, 8, 9]]\n",
    "\n",
    "# creating a plot\n",
    "pixel_plot = plt.figure()\n",
    "\n",
    "# plotting a plot\n",
    "#pixel_plot.add_axes()\n",
    "\n",
    "# customizing plot\n",
    "plt.title(\"pixel_plot\")\n",
    "pixel_plot = plt.imshow(\n",
    "data, cmap='Greens', interpolation='nearest', origin='lower')\n",
    "\n",
    "plt.colorbar(pixel_plot)\n",
    "\n",
    "# save a plot\n",
    "plt.savefig('pixel_plot.png')\n",
    "\n",
    "# show plot\n",
    "plt.show(pixel_plot)"
   ]
  },
  {
   "cell_type": "code",
   "execution_count": 3,
   "metadata": {},
   "outputs": [
    {
     "data": {
      "image/png": "[encoded data removed]",
      "text/plain": [
       "<Figure size 432x288 with 1 Axes>"
      ]
     },
     "metadata": {
      "needs_background": "light"
     },
     "output_type": "display_data"
    }
   ],
   "source": [
    "import matplotlib.pyplot as plt\n",
    "data = [[1, 2, 3], [4, 5, 6], [7, 8, 9]]\n",
    "\n",
    "# creating a plot\n",
    "pixel_plot = plt.figure()\n",
    "\n",
    "# customizing plot\n",
    "plt.title(\"pixel_plot\")\n",
    "pixel_plot = plt.imshow(\n",
    "data, cmap='PuOr',origin=(3,4))\n",
    "\n",
    "#plt.colorbar(pixel_plot)\n",
    "\n",
    "# save a plot\n",
    "#plt.savefig('pixel_plot.png')\n",
    "\n",
    "# show plot\n",
    "plt.show(pixel_plot)"
   ]
  },
  {
   "cell_type": "code",
   "execution_count": 28,
   "metadata": {},
   "outputs": [
    {
     "data": {
      "text/plain": [
       "<matplotlib.image.AxesImage at 0x24fe256cf88>"
      ]
     },
     "execution_count": 28,
     "metadata": {},
     "output_type": "execute_result"
    },
    {
     "data": {
      "image/png": "[encoded data removed]",
      "text/plain": [
       "<Figure size 432x288 with 1 Axes>"
      ]
     },
     "metadata": {
      "needs_background": "light"
     },
     "output_type": "display_data"
    }
   ],
   "source": [
    "import matplotlib.pyplot as plt\n",
    "array_to_display = np.reshape(np.arange(5,15),(1,10))\n",
    "plt.imshow(array_to_display)"
   ]
  },
  {
   "cell_type": "code",
   "execution_count": 30,
   "metadata": {},
   "outputs": [
    {
     "ename": "ValueError",
     "evalue": "cannot reshape array of size 34 into shape (1,100)",
     "output_type": "error",
     "traceback": [
      "\u001b[1;31m---------------------------------------------------------------------------\u001b[0m",
      "\u001b[1;31mValueError\u001b[0m                                Traceback (most recent call last)",
      "\u001b[1;32m<ipython-input-30-da1f9a0a42d7>\u001b[0m in \u001b[0;36m<module>\u001b[1;34m\u001b[0m\n\u001b[0;32m      1\u001b[0m \u001b[1;32mimport\u001b[0m \u001b[0mmatplotlib\u001b[0m\u001b[1;33m.\u001b[0m\u001b[0mpyplot\u001b[0m \u001b[1;32mas\u001b[0m \u001b[0mplt\u001b[0m\u001b[1;33m\u001b[0m\u001b[1;33m\u001b[0m\u001b[0m\n\u001b[1;32m----> 2\u001b[1;33m \u001b[0marray_to_display\u001b[0m \u001b[1;33m=\u001b[0m \u001b[0mnp\u001b[0m\u001b[1;33m.\u001b[0m\u001b[0mreshape\u001b[0m\u001b[1;33m(\u001b[0m\u001b[0mnp\u001b[0m\u001b[1;33m.\u001b[0m\u001b[0marange\u001b[0m\u001b[1;33m(\u001b[0m\u001b[1;36m26\u001b[0m\u001b[1;33m,\u001b[0m\u001b[1;36m60\u001b[0m\u001b[1;33m)\u001b[0m\u001b[1;33m,\u001b[0m\u001b[1;33m(\u001b[0m\u001b[1;36m1\u001b[0m\u001b[1;33m,\u001b[0m\u001b[1;36m100\u001b[0m\u001b[1;33m)\u001b[0m\u001b[1;33m)\u001b[0m\u001b[1;33m\u001b[0m\u001b[1;33m\u001b[0m\u001b[0m\n\u001b[0m\u001b[0;32m      3\u001b[0m \u001b[0mplt\u001b[0m\u001b[1;33m.\u001b[0m\u001b[0mimshow\u001b[0m\u001b[1;33m(\u001b[0m\u001b[0marray_to_display\u001b[0m\u001b[1;33m)\u001b[0m\u001b[1;33m\u001b[0m\u001b[1;33m\u001b[0m\u001b[0m\n",
      "\u001b[1;32m<__array_function__ internals>\u001b[0m in \u001b[0;36mreshape\u001b[1;34m(*args, **kwargs)\u001b[0m\n",
      "\u001b[1;32m~\\anaconda3\\lib\\site-packages\\numpy\\core\\fromnumeric.py\u001b[0m in \u001b[0;36mreshape\u001b[1;34m(a, newshape, order)\u001b[0m\n\u001b[0;32m    299\u001b[0m            [5, 6]])\n\u001b[0;32m    300\u001b[0m     \"\"\"\n\u001b[1;32m--> 301\u001b[1;33m     \u001b[1;32mreturn\u001b[0m \u001b[0m_wrapfunc\u001b[0m\u001b[1;33m(\u001b[0m\u001b[0ma\u001b[0m\u001b[1;33m,\u001b[0m \u001b[1;34m'reshape'\u001b[0m\u001b[1;33m,\u001b[0m \u001b[0mnewshape\u001b[0m\u001b[1;33m,\u001b[0m \u001b[0morder\u001b[0m\u001b[1;33m=\u001b[0m\u001b[0morder\u001b[0m\u001b[1;33m)\u001b[0m\u001b[1;33m\u001b[0m\u001b[1;33m\u001b[0m\u001b[0m\n\u001b[0m\u001b[0;32m    302\u001b[0m \u001b[1;33m\u001b[0m\u001b[0m\n\u001b[0;32m    303\u001b[0m \u001b[1;33m\u001b[0m\u001b[0m\n",
      "\u001b[1;32m~\\anaconda3\\lib\\site-packages\\numpy\\core\\fromnumeric.py\u001b[0m in \u001b[0;36m_wrapfunc\u001b[1;34m(obj, method, *args, **kwds)\u001b[0m\n\u001b[0;32m     59\u001b[0m \u001b[1;33m\u001b[0m\u001b[0m\n\u001b[0;32m     60\u001b[0m     \u001b[1;32mtry\u001b[0m\u001b[1;33m:\u001b[0m\u001b[1;33m\u001b[0m\u001b[1;33m\u001b[0m\u001b[0m\n\u001b[1;32m---> 61\u001b[1;33m         \u001b[1;32mreturn\u001b[0m \u001b[0mbound\u001b[0m\u001b[1;33m(\u001b[0m\u001b[1;33m*\u001b[0m\u001b[0margs\u001b[0m\u001b[1;33m,\u001b[0m \u001b[1;33m**\u001b[0m\u001b[0mkwds\u001b[0m\u001b[1;33m)\u001b[0m\u001b[1;33m\u001b[0m\u001b[1;33m\u001b[0m\u001b[0m\n\u001b[0m\u001b[0;32m     62\u001b[0m     \u001b[1;32mexcept\u001b[0m \u001b[0mTypeError\u001b[0m\u001b[1;33m:\u001b[0m\u001b[1;33m\u001b[0m\u001b[1;33m\u001b[0m\u001b[0m\n\u001b[0;32m     63\u001b[0m         \u001b[1;31m# A TypeError occurs if the object does have such a method in its\u001b[0m\u001b[1;33m\u001b[0m\u001b[1;33m\u001b[0m\u001b[1;33m\u001b[0m\u001b[0m\n",
      "\u001b[1;31mValueError\u001b[0m: cannot reshape array of size 34 into shape (1,100)"
     ]
    }
   ],
   "source": [
    "import matplotlib.pyplot as plt\n",
    "array_to_display = np.reshape(np.arange(26,60),(1,100))\n",
    "plt.imshow(array_to_display)"
   ]
  },
  {
   "cell_type": "code",
   "execution_count": 2,
   "metadata": {},
   "outputs": [
    {
     "ename": "AttributeError",
     "evalue": "module 'PIL.Image' has no attribute 'putpixel'",
     "output_type": "error",
     "traceback": [
      "\u001b[1;31m---------------------------------------------------------------------------\u001b[0m",
      "\u001b[1;31mAttributeError\u001b[0m                            Traceback (most recent call last)",
      "\u001b[1;32m<ipython-input-2-8e560eba9766>\u001b[0m in \u001b[0;36m<module>\u001b[1;34m\u001b[0m\n\u001b[0;32m      1\u001b[0m \u001b[1;32mfrom\u001b[0m \u001b[0mPIL\u001b[0m \u001b[1;32mimport\u001b[0m \u001b[0mImage\u001b[0m \u001b[1;32mas\u001b[0m \u001b[0mplt\u001b[0m\u001b[1;33m\u001b[0m\u001b[1;33m\u001b[0m\u001b[0m\n\u001b[1;32m----> 2\u001b[1;33m \u001b[0mplt\u001b[0m\u001b[1;33m.\u001b[0m\u001b[0mputpixel\u001b[0m\u001b[1;33m(\u001b[0m\u001b[1;33m(\u001b[0m\u001b[1;36m2\u001b[0m\u001b[1;33m,\u001b[0m\u001b[1;36m3\u001b[0m\u001b[1;33m)\u001b[0m\u001b[1;33m,\u001b[0m\u001b[1;33m(\u001b[0m\u001b[1;36m0\u001b[0m\u001b[1;33m,\u001b[0m\u001b[1;36m0\u001b[0m\u001b[1;33m,\u001b[0m\u001b[1;36m0\u001b[0m\u001b[1;33m,\u001b[0m\u001b[1;36m255\u001b[0m\u001b[1;33m)\u001b[0m\u001b[1;33m)\u001b[0m\u001b[1;33m\u001b[0m\u001b[1;33m\u001b[0m\u001b[0m\n\u001b[0m",
      "\u001b[1;31mAttributeError\u001b[0m: module 'PIL.Image' has no attribute 'putpixel'"
     ]
    }
   ],
   "source": [
    "from PIL import Image as plt\n",
    "plt.putpixel((2,3),(0,0,0,255))"
   ]
  },
  {
   "cell_type": "code",
   "execution_count": 6,
   "metadata": {},
   "outputs": [],
   "source": [
    "from PIL import Image\n",
    "img = Image.new(\"RGB\", (800, 1280), (255, 255, 255))\n",
    "img.save(\"C:/Users/SUMEDHA/Pictures/image.png\", \"PNG\")\n",
    "\n",
    "img.putpixel((2,3),(0,0,0,255))\n",
    "img.show()"
   ]
  },
  {
   "cell_type": "code",
   "execution_count": 7,
   "metadata": {},
   "outputs": [
    {
     "ename": "FileNotFoundError",
     "evalue": "[Errno 2] No such file or directory: 'C:\\\\Users\\\\System-Pc\\\\Desktop\\\\python.png'",
     "output_type": "error",
     "traceback": [
      "\u001b[1;31m---------------------------------------------------------------------------\u001b[0m",
      "\u001b[1;31mFileNotFoundError\u001b[0m                         Traceback (most recent call last)",
      "\u001b[1;32m<ipython-input-7-eba70bc5de08>\u001b[0m in \u001b[0;36m<module>\u001b[1;34m\u001b[0m\n\u001b[0;32m      6\u001b[0m \u001b[1;31m# creating a image object\u001b[0m\u001b[1;33m\u001b[0m\u001b[1;33m\u001b[0m\u001b[1;33m\u001b[0m\u001b[0m\n\u001b[0;32m      7\u001b[0m \u001b[1;33m\u001b[0m\u001b[0m\n\u001b[1;32m----> 8\u001b[1;33m \u001b[0mimage\u001b[0m \u001b[1;33m=\u001b[0m \u001b[0mImage\u001b[0m\u001b[1;33m.\u001b[0m\u001b[0mopen\u001b[0m\u001b[1;33m(\u001b[0m\u001b[1;34mr'C:\\Users\\System-Pc\\Desktop\\python.png'\u001b[0m\u001b[1;33m)\u001b[0m\u001b[1;33m\u001b[0m\u001b[1;33m\u001b[0m\u001b[0m\n\u001b[0m\u001b[0;32m      9\u001b[0m \u001b[1;33m\u001b[0m\u001b[0m\n\u001b[0;32m     10\u001b[0m \u001b[1;33m\u001b[0m\u001b[0m\n",
      "\u001b[1;32m~\\anaconda3\\lib\\site-packages\\PIL\\Image.py\u001b[0m in \u001b[0;36mopen\u001b[1;34m(fp, mode)\u001b[0m\n\u001b[0;32m   2807\u001b[0m \u001b[1;33m\u001b[0m\u001b[0m\n\u001b[0;32m   2808\u001b[0m     \u001b[1;32mif\u001b[0m \u001b[0mfilename\u001b[0m\u001b[1;33m:\u001b[0m\u001b[1;33m\u001b[0m\u001b[1;33m\u001b[0m\u001b[0m\n\u001b[1;32m-> 2809\u001b[1;33m         \u001b[0mfp\u001b[0m \u001b[1;33m=\u001b[0m \u001b[0mbuiltins\u001b[0m\u001b[1;33m.\u001b[0m\u001b[0mopen\u001b[0m\u001b[1;33m(\u001b[0m\u001b[0mfilename\u001b[0m\u001b[1;33m,\u001b[0m \u001b[1;34m\"rb\"\u001b[0m\u001b[1;33m)\u001b[0m\u001b[1;33m\u001b[0m\u001b[1;33m\u001b[0m\u001b[0m\n\u001b[0m\u001b[0;32m   2810\u001b[0m         \u001b[0mexclusive_fp\u001b[0m \u001b[1;33m=\u001b[0m \u001b[1;32mTrue\u001b[0m\u001b[1;33m\u001b[0m\u001b[1;33m\u001b[0m\u001b[0m\n\u001b[0;32m   2811\u001b[0m \u001b[1;33m\u001b[0m\u001b[0m\n",
      "\u001b[1;31mFileNotFoundError\u001b[0m: [Errno 2] No such file or directory: 'C:\\\\Users\\\\System-Pc\\\\Desktop\\\\python.png'"
     ]
    }
   ],
   "source": [
    "# Importing Image from PIL package  \n",
    "\n",
    "from PIL import Image \n",
    "\n",
    "      \n",
    "# creating a image object \n",
    "\n",
    "image = Image.open(r'C:\\Users\\System-Pc\\Desktop\\python.png')  \n",
    "\n",
    "  \n",
    "\n",
    "width, height = image.size \n",
    "\n",
    "  \n",
    "\n",
    "for x in range(height): \n",
    "\n",
    "    image.putpixel( (x, x), (0, 0, 0, 255) ) \n",
    "\n",
    "  \n",
    "image.show()"
   ]
  },
  {
   "cell_type": "code",
   "execution_count": 11,
   "metadata": {},
   "outputs": [],
   "source": [
    "from PIL import Image\n",
    "img = Image.new(\"RGB\", (100, 100), (255, 255, 255))\n",
    "img.save(\"C:/Users/SUMEDHA/Pictures/image.png\", \"PNG\")"
   ]
  },
  {
   "cell_type": "code",
   "execution_count": 12,
   "metadata": {},
   "outputs": [],
   "source": [
    "image = Image.open(r'C:/Users/SUMEDHA/Pictures/image.png') \n",
    "  \n",
    "width, height = image.size\n",
    "  \n",
    "for x in range(height):\n",
    "    image.putpixel( (x, x), (0, 0, 0, 255) )\n",
    "image.save(\"C:/Users/SUMEDHA/Pictures/image1.png\", \"PNG\")\n",
    "image.show()"
   ]
  },
  {
   "cell_type": "code",
   "execution_count": 13,
   "metadata": {},
   "outputs": [
    {
     "data": {
      "text/plain": [
       "['__annotations__',\n",
       " '__call__',\n",
       " '__class__',\n",
       " '__closure__',\n",
       " '__code__',\n",
       " '__defaults__',\n",
       " '__delattr__',\n",
       " '__dict__',\n",
       " '__dir__',\n",
       " '__doc__',\n",
       " '__eq__',\n",
       " '__format__',\n",
       " '__ge__',\n",
       " '__get__',\n",
       " '__getattribute__',\n",
       " '__globals__',\n",
       " '__gt__',\n",
       " '__hash__',\n",
       " '__init__',\n",
       " '__init_subclass__',\n",
       " '__kwdefaults__',\n",
       " '__le__',\n",
       " '__lt__',\n",
       " '__module__',\n",
       " '__name__',\n",
       " '__ne__',\n",
       " '__new__',\n",
       " '__qualname__',\n",
       " '__reduce__',\n",
       " '__reduce_ex__',\n",
       " '__repr__',\n",
       " '__setattr__',\n",
       " '__sizeof__',\n",
       " '__str__',\n",
       " '__subclasshook__']"
      ]
     },
     "execution_count": 13,
     "metadata": {},
     "output_type": "execute_result"
    }
   ],
   "source": [
    "import matplotlib.pyplot as plt\n",
    "dir(plt.imshow)"
   ]
  },
  {
   "cell_type": "markdown",
   "metadata": {},
   "source": [
    "### The following code is just for testing purposes along with commnets for better understanding:"
   ]
  },
  {
   "cell_type": "code",
   "execution_count": 4,
   "metadata": {},
   "outputs": [
    {
     "name": "stdout",
     "output_type": "stream",
     "text": [
      "Enter x coordinate of the point: 1\n",
      "Enter y coordinate of the point: 1\n"
     ]
    },
    {
     "data": {
      "image/png": "[encoded data removed]",
      "text/plain": [
       "<Figure size 1296x1296 with 1 Axes>"
      ]
     },
     "metadata": {
      "needs_background": "light"
     },
     "output_type": "display_data"
    }
   ],
   "source": [
    "import matplotlib.pyplot as plt\n",
    "x=int(input(\"Enter x coordinate of the point: \"))\n",
    "y=int(input(\"Enter y coordinate of the point: \"))\n",
    "x1=0 #lower limit of x axis\n",
    "x2=3 #upper limit of x axis\n",
    "y1=0 #lower limit of y axis\n",
    "y2=2 #upper limit of y axis\n",
    "x_axis=list(range(x1,x2+1)) #list of markings for x axis\n",
    "y_axis=list(range(y1,y2+1)) #list of markings for y axis\n",
    "fig=18 #figure size of the graph\n",
    "r=max(x2-x1,y2-y1) #maximum range\n",
    "pix=55.5*fig/r #pixel size;factors figure size(f),maximum range(r);constant=55.5[calculated]\n",
    "plt.rcParams['figure.figsize'] = [fig,fig]\n",
    "plt.xlim(x1,x2)\n",
    "plt.ylim(y1,y2)\n",
    "x_axis.append(1.5)\n",
    "plt.plot(x,y,marker='s',ms=pix)\n",
    "plt.plot(x+1,y,marker='s',ms=pix)\n",
    "plt.gca().set_aspect('equal',adjustable='box')\n",
    "plt.grid()\n",
    "plt.xticks(x_axis)\n",
    "plt.yticks(y_axis)\n",
    "plt.show()"
   ]
  },
  {
   "cell_type": "code",
   "execution_count": 31,
   "metadata": {},
   "outputs": [
    {
     "name": "stdout",
     "output_type": "stream",
     "text": [
      "Enter x coordinate of centre: 2\n",
      "Enter y coordinate of centre: 3\n",
      "Enter radius: 10\n"
     ]
    },
    {
     "data": {
      "image/png": "[encoded data removed]",
      "text/plain": [
       "<Figure size 720x720 with 1 Axes>"
      ]
     },
     "metadata": {
      "needs_background": "light"
     },
     "output_type": "display_data"
    }
   ],
   "source": [
    "import matplotlib.pyplot as plt\n",
    "def midpointcircle(x_centre, y_centre, r1):\n",
    "    xk = 0\n",
    "    yk = r1\n",
    "    r=(r1+r1/2)\n",
    "    plt.xlim(-r+x_centre,r+x_centre)\n",
    "    plt.ylim(-r+y_centre,r+y_centre)\n",
    "    r=r*210/270\n",
    "    plt.rcParams['figure.figsize'] = [10,10]\n",
    "    plt.plot((xk+x_centre),(yk+y_centre),marker=\"s\",ms=210/r,color=\"blue\")\n",
    "    if (r1 > 0) :\n",
    "        plt.plot((xk+x_centre),(-yk+y_centre),marker=\"s\",ms=210/r,color=\"blue\")\n",
    "        plt.plot((yk+x_centre),(xk+y_centre),marker=\"s\",ms=210/r,color=\"blue\")\n",
    "        plt.plot((-yk+x_centre),(xk+y_centre),marker=\"s\",ms=210/r,color=\"blue\")\n",
    "    pk = 1.25 - r1\n",
    "    while yk > xk:\n",
    "        xk += 1\n",
    "        if pk <= 0:\n",
    "            pk = pk + 2 * xk + 1\n",
    "        else:        \n",
    "            yk -= 1\n",
    "            pk = pk + 2 * xk - 2 * yk + 1\n",
    "        if (yk < xk):\n",
    "            break\n",
    "        plt.plot((xk+x_centre),(yk+y_centre),marker=\"s\",ms=210/r,color=\"blue\")\n",
    "        plt.plot((-xk+x_centre),(yk+y_centre),marker=\"s\",ms=210/r,color=\"blue\")\n",
    "        plt.plot((xk+x_centre),(-yk+y_centre),marker=\"s\",ms=210/r,color=\"blue\")\n",
    "        plt.plot((-xk+x_centre),(-yk+y_centre),marker=\"s\",ms=210/r,color=\"blue\")\n",
    "        if yk != xk:\n",
    "            plt.plot((yk+x_centre),(xk+y_centre),marker=\"s\",ms=210/r,color=\"blue\")\n",
    "            plt.plot((-yk+x_centre),(xk+y_centre),marker=\"s\",ms=210/r,color=\"blue\")\n",
    "            plt.plot((yk+x_centre),(-xk+y_centre),marker=\"s\",ms=210/r,color=\"blue\")\n",
    "            plt.plot((-yk+x_centre),(-xk+y_centre),marker=\"s\",ms=210/r,color=\"blue\")\n",
    "    plt.gca().set_aspect('equal',adjustable='box')\n",
    "    plt.grid()\n",
    "\n",
    "x_centre=int(input(\"Enter x coordinate of centre: \"))                           \n",
    "y_centre=int(input(\"Enter y coordinate of centre: \"))\n",
    "r=int(input(\"Enter radius: \"))\n",
    "midpointcircle(x_centre,y_centre,r)"
   ]
  },
  {
   "cell_type": "code",
   "execution_count": null,
   "metadata": {},
   "outputs": [],
   "source": []
  },
  {
   "cell_type": "code",
   "execution_count": 13,
   "metadata": {},
   "outputs": [
    {
     "name": "stdout",
     "output_type": "stream",
     "text": [
      "Enter x coordinate of centre: 0\n",
      "Enter y coordinate of centre: 0\n",
      "Enter radius: 10\n"
     ]
    },
    {
     "data": {
      "image/png": "[encoded data removed]",
      "text/plain": [
       "<Figure size 1080x1080 with 1 Axes>"
      ]
     },
     "metadata": {
      "needs_background": "light"
     },
     "output_type": "display_data"
    }
   ],
   "source": [
    "import matplotlib.pyplot as plt\n",
    "def midpointcircle(x_centre, y_centre, r1):\n",
    "    xk = 0\n",
    "    yk = r1\n",
    "    r=(r1+r1/3)\n",
    "    plt.xlim(-r+x_centre,r+x_centre)\n",
    "    plt.ylim(-r+y_centre,r+y_centre)\n",
    "    r=r*210/270/1.5\n",
    "    plt.rcParams['figure.figsize'] = [15,15]\n",
    "    plt.plot((xk+x_centre),(yk+y_centre),marker=\"s\",ms=210/r,color=\"blue\")\n",
    "    if (r1 > 0) :\n",
    "        plt.plot((xk+x_centre),(-yk+y_centre),marker=\"s\",ms=210/r,color=\"blue\")\n",
    "        plt.plot((yk+x_centre),(xk+y_centre),marker=\"s\",ms=210/r,color=\"blue\")\n",
    "        plt.plot((-yk+x_centre),(xk+y_centre),marker=\"s\",ms=210/r,color=\"blue\")\n",
    "    pk = 1.25 - r1\n",
    "    while yk > xk:\n",
    "        xk += 1\n",
    "        if pk <= 0:\n",
    "            pk = pk + 2 * xk + 1\n",
    "        else:        \n",
    "            yk -= 1\n",
    "            pk = pk + 2 * xk - 2 * yk + 1\n",
    "        if (yk < xk):\n",
    "            break\n",
    "        plt.plot((xk+x_centre),(yk+y_centre),marker=\"s\",ms=210/r,color=\"blue\")\n",
    "        plt.plot((-xk+x_centre),(yk+y_centre),marker=\"s\",ms=210/r,color=\"blue\")\n",
    "        plt.plot((xk+x_centre),(-yk+y_centre),marker=\"s\",ms=210/r,color=\"blue\")\n",
    "        plt.plot((-xk+x_centre),(-yk+y_centre),marker=\"s\",ms=210/r,color=\"blue\")\n",
    "        if yk != xk:\n",
    "            plt.plot((yk+x_centre),(xk+y_centre),marker=\"s\",ms=210/r,color=\"blue\")\n",
    "            plt.plot((-yk+x_centre),(xk+y_centre),marker=\"s\",ms=210/r,color=\"blue\")\n",
    "            plt.plot((yk+x_centre),(-xk+y_centre),marker=\"s\",ms=210/r,color=\"blue\")\n",
    "            plt.plot((-yk+x_centre),(-xk+y_centre),marker=\"s\",ms=210/r,color=\"blue\")\n",
    "    plt.gca().set_aspect('equal',adjustable='box')\n",
    "    plt.grid()\n",
    "\n",
    "x_centre=int(input(\"Enter x coordinate of centre: \"))                           \n",
    "y_centre=int(input(\"Enter y coordinate of centre: \"))\n",
    "r=int(input(\"Enter radius: \"))\n",
    "midpointcircle(x_centre,y_centre,r)"
   ]
  },
  {
   "cell_type": "code",
   "execution_count": 7,
   "metadata": {},
   "outputs": [
    {
     "name": "stdout",
     "output_type": "stream",
     "text": [
      "Enter x coordinate of the point: 1\n",
      "Enter y coordinate of the point: 1\n"
     ]
    },
    {
     "data": {
      "image/png": "[encoded data removed]",
      "text/plain": [
       "<Figure size 1296x1296 with 1 Axes>"
      ]
     },
     "metadata": {
      "needs_background": "light"
     },
     "output_type": "display_data"
    }
   ],
   "source": [
    "import matplotlib.pyplot as plt\n",
    "\n",
    "#pre-requisite variables\n",
    "x_lower=0 #lower limit of x axis\n",
    "x_upper=2 #upper limit of x axis\n",
    "y_lower=0 #lower limit of y axis\n",
    "y_upper=2 #upper limit of y axis\n",
    "x_axis=list(range(x_lower,x_upper+1)) #list of markings for x axis\n",
    "y_axis=list(range(y_lower,y_upper+1)) #list of markings for y axis\n",
    "fig=18 #figure size of the graph\n",
    "r=max(x_upper-x_lower,y_upper-y_lower) #maximum range\n",
    "pix=55.5*fig/r #pixel size;factors figure size(f),maximum range(r);constant=55.5[calculated]\n",
    "shape='s' #marker shape\n",
    "plt.rcParams['figure.figsize'] = [fig,fig]\n",
    "plt.xlim(x_lower,x_upper)\n",
    "plt.ylim(y_lower,y_upper)\n",
    "\n",
    "#function to plot a pixel at a desired position\n",
    "def pixel(x,y):\n",
    "    plt.plot(x,y,marker=shape,ms=pix)\n",
    "    \n",
    "#taking input from user\n",
    "x=int(input(\"Enter x coordinate of the point: \"))\n",
    "y=int(input(\"Enter y coordinate of the point: \"))\n",
    "pixel(x,y)\n",
    "\n",
    "#displaying the plot with the required adjustments\n",
    "plt.gca().set_aspect('equal',adjustable='box')\n",
    "plt.grid()\n",
    "plt.xticks(x_axis)\n",
    "plt.yticks(y_axis)\n",
    "plt.show()"
   ]
  },
  {
   "cell_type": "code",
   "execution_count": null,
   "metadata": {},
   "outputs": [],
   "source": [
    "import matplotlib.pyplot as plt\n",
    "print(\"Enter the value of x1: \")\n",
    "x1=int(input())\n",
    "print(\"Enter the value of y1: \")\n",
    "y1=int(input())\n",
    "print(\"Enter the value of x2: \")\n",
    "x2=int(input())\n",
    "print(\"Enter the value of y2: \")\n",
    "y2=int(input())\n",
    "dx=x2-x1\n",
    "dy=y2-y1\n",
    "x=[x1]\n",
    "y=[y1]\n",
    "plt.xlim(min(x1,x2,y1,y2),max(x1,x2,y1,y2))\n",
    "plt.ylim(min(x1,x2,y1,y2),max(x1,x2,y1,y2))\n",
    "print(\"x \\t y\")\n",
    "print(round(x1,2),\"\\t\",round(y1,2))\n",
    "if dx==0:\n",
    "    p=2*dx-dy\n",
    "    for i in range(y1,y2):\n",
    "        y1=y1+1\n",
    "        y.append(y1)\n",
    "        if p<0:\n",
    "            p=p+2*dx\n",
    "        else:\n",
    "            p=p+2*dx-2*dy\n",
    "            x1=x1+1\n",
    "        x.append(x1)\n",
    "        print(round(x1,2),\"\\t\",round(y1,2))\n",
    "elif dy/dx<1:\n",
    "    p=2*dy-dx\n",
    "    for i in range(x1,x2):\n",
    "        x1=x1+1\n",
    "        x.append(x1)\n",
    "        if p<0:\n",
    "            p=p+2*dy\n",
    "        else:\n",
    "            p=p+2*dy-2*dx\n",
    "            y1=y1+1\n",
    "        y.append(y1)\n",
    "        print(round(x1,2),\"\\t\",round(y1,2))\n",
    "else:\n",
    "    p=2*dx-dy\n",
    "    for i in range(y1,y2):\n",
    "        y1=y1+1\n",
    "        y.append(y1)\n",
    "        if p<0:\n",
    "            p=p+2*dx\n",
    "        else:\n",
    "            p=p+2*dx-2*dy\n",
    "            x1=x1+1\n",
    "        x.append(x1)\n",
    "        print(round(x1,2),\"\\t\",round(y1,2))\n",
    "plt.plot(x,y)\n",
    "plt.title(\"Bresenham Algorithm\")\n",
    "plt.xlabel(\"X Axis\")\n",
    "plt.ylabel(\"Y Axis\")\n",
    "plt.gca().set_aspect('equal',adjustable='box')\n",
    "plt.show()"
   ]
  },
  {
   "cell_type": "code",
   "execution_count": 11,
   "metadata": {},
   "outputs": [
    {
     "name": "stdout",
     "output_type": "stream",
     "text": [
      "Enter the value of x1: \n",
      "1\n",
      "Enter the value of y1: \n",
      "1\n",
      "Enter the value of x2: \n",
      "9\n",
      "Enter the value of y2: \n",
      "9\n",
      "x \t y\n",
      "1 \t 1\n",
      "2 \t 2\n",
      "3 \t 3\n",
      "4 \t 4\n",
      "5 \t 5\n",
      "6 \t 6\n",
      "7 \t 7\n",
      "8 \t 8\n",
      "9 \t 9\n"
     ]
    },
    {
     "data": {
      "image/png": "[encoded data removed]",
      "text/plain": [
       "<Figure size 1296x1296 with 1 Axes>"
      ]
     },
     "metadata": {
      "needs_background": "light"
     },
     "output_type": "display_data"
    }
   ],
   "source": [
    "import matplotlib.pyplot as plt\n",
    "\n",
    "#pre-requisite variables\n",
    "x_lower=0 #lower limit of x axis\n",
    "x_upper=10 #upper limit of x axis\n",
    "y_lower=0 #lower limit of y axis\n",
    "y_upper=10 #upper limit of y axis\n",
    "x_axis=list(range(x_lower,x_upper+1)) #list of markings for x axis\n",
    "y_axis=list(range(y_lower,y_upper+1)) #list of markings for y axis\n",
    "fig=18 #figure size of the graph\n",
    "r=max(x_upper-x_lower,y_upper-y_lower) #maximum range\n",
    "pix=55.5*fig/r #pixel size;factors figure size(f),maximum range(r);constant=55.5[calculated]\n",
    "shape='s' #pixel shape\n",
    "col='black' #pixel color\n",
    "plt.rcParams['figure.figsize'] = [fig,fig]\n",
    "plt.xlim(x_lower,x_upper)\n",
    "plt.ylim(y_lower,y_upper)\n",
    "\n",
    "#function to plot a pixel at a desired position\n",
    "def pixel(x,y):\n",
    "    plt.plot(x,y,marker=shape,ms=pix,color=col)\n",
    "    \n",
    "#taking input from user\n",
    "print(\"Enter the value of x1: \")\n",
    "x1=int(input())\n",
    "print(\"Enter the value of y1: \")\n",
    "y1=int(input())\n",
    "print(\"Enter the value of x2: \")\n",
    "x2=int(input())\n",
    "print(\"Enter the value of y2: \")\n",
    "y2=int(input())\n",
    "dx=x2-x1\n",
    "dy=y2-y1\n",
    "x=[x1]\n",
    "y=[y1]\n",
    "plt.xlim(min(x1,x2,y1,y2),max(x1,x2,y1,y2))\n",
    "plt.ylim(min(x1,x2,y1,y2),max(x1,x2,y1,y2))\n",
    "print(\"x \\t y\")\n",
    "print(round(x1,2),\"\\t\",round(y1,2))\n",
    "pixel(x1,y1)\n",
    "if dx==0:\n",
    "    p=2*dx-dy\n",
    "    for i in range(y1,y2):\n",
    "        y1=y1+1\n",
    "        y.append(y1)\n",
    "        if p<0:\n",
    "            p=p+2*dx\n",
    "        else:\n",
    "            p=p+2*dx-2*dy\n",
    "            x1=x1+1\n",
    "        x.append(x1)\n",
    "        print(round(x1,2),\"\\t\",round(y1,2))\n",
    "        pixel(x1,y1)\n",
    "elif dy/dx<1:\n",
    "    p=2*dy-dx\n",
    "    for i in range(x1,x2):\n",
    "        x1=x1+1\n",
    "        x.append(x1)\n",
    "        if p<0:\n",
    "            p=p+2*dy\n",
    "        else:\n",
    "            p=p+2*dy-2*dx\n",
    "            y1=y1+1\n",
    "        y.append(y1)\n",
    "        print(round(x1,2),\"\\t\",round(y1,2))\n",
    "        pixel(x1,y1)\n",
    "else:\n",
    "    p=2*dx-dy\n",
    "    for i in range(y1,y2):\n",
    "        y1=y1+1\n",
    "        y.append(y1)\n",
    "        if p<0:\n",
    "            p=p+2*dx\n",
    "        else:\n",
    "            p=p+2*dx-2*dy\n",
    "            x1=x1+1\n",
    "        x.append(x1)\n",
    "        print(round(x1,2),\"\\t\",round(y1,2))\n",
    "        pixel(x1,y1)\n",
    "\n",
    "#displaying the plot with the required adjustments\n",
    "plt.gca().set_aspect('equal',adjustable='box')\n",
    "plt.grid()\n",
    "plt.xticks(x_axis)\n",
    "plt.yticks(y_axis)\n",
    "plt.show()"
   ]
  },
  {
   "cell_type": "code",
   "execution_count": 23,
   "metadata": {},
   "outputs": [
    {
     "name": "stdout",
     "output_type": "stream",
     "text": [
      "Enter the value of x1: \n",
      "7\n",
      "Enter the value of y1: \n",
      "7\n",
      "Enter the value of x2: \n",
      "9\n",
      "Enter the value of y2: \n",
      "5\n",
      "x \t y\n",
      "7 \t 9\n"
     ]
    },
    {
     "data": {
      "image/png": "[encoded data removed]",
      "text/plain": [
       "<Figure size 1296x1296 with 1 Axes>"
      ]
     },
     "metadata": {
      "needs_background": "light"
     },
     "output_type": "display_data"
    }
   ],
   "source": [
    "import matplotlib.pyplot as plt\n",
    "\n",
    "#pre-requisite variables\n",
    "x_lower=0 #lower limit of x axis\n",
    "x_upper=10 #upper limit of x axis\n",
    "y_lower=0 #lower limit of y axis\n",
    "y_upper=10 #upper limit of y axis\n",
    "x_axis=list(range(x_lower,x_upper+1)) #list of markings for x axis\n",
    "y_axis=list(range(y_lower,y_upper+1)) #list of markings for y axis\n",
    "fig=18 #figure size of the graph\n",
    "r=max(x_upper-x_lower,y_upper-y_lower) #maximum range\n",
    "pix=55.5*fig/r #pixel size;factors figure size(f),maximum range(r);constant=55.5[calculated]\n",
    "shape='s' #pixel shape\n",
    "col='black' #pixel color\n",
    "plt.rcParams['figure.figsize'] = [fig,fig]\n",
    "plt.xlim(x_lower,x_upper)\n",
    "plt.ylim(y_lower,y_upper)\n",
    "\n",
    "#function to plot a pixel at a desired position\n",
    "def pixel(x,y):\n",
    "    plt.plot(x,y,marker=shape,ms=pix,color=col)\n",
    "    \n",
    "def line(x1,y1,x2,y2):\n",
    "    dx=x2-x1\n",
    "    dy=y2-y1\n",
    "    x=[x1]\n",
    "    y=[y1]\n",
    "    print(\"x \\t y\")\n",
    "    print(round(x1,2),\"\\t\",round(y1,2))\n",
    "    pixel(x1,y1)\n",
    "    if dx==0:\n",
    "        p=2*dx-dy\n",
    "        for i in range(y1,y2):\n",
    "            y1=y1+1\n",
    "            y.append(y1)\n",
    "            if p<0:\n",
    "                p=p+2*dx\n",
    "            else:\n",
    "                p=p+2*dx-2*dy\n",
    "                x1=x1+1\n",
    "            x.append(x1)\n",
    "            print(round(x1,2),\"\\t\",round(y1,2))\n",
    "            pixel(x1,y1)\n",
    "    elif dy/dx<1:\n",
    "        p=2*dy-dx\n",
    "        for i in range(x1,x2):\n",
    "            x1=x1+1\n",
    "            x.append(x1)\n",
    "            if p<0:\n",
    "                p=p+2*dy\n",
    "            else:\n",
    "                p=p+2*dy-2*dx\n",
    "                y1=y1+1\n",
    "            y.append(y1)\n",
    "            print(round(x1,2),\"\\t\",round(y1,2))\n",
    "            pixel(x1,y1)\n",
    "    else:\n",
    "        p=2*dx-dy\n",
    "        for i in range(y1,y2):\n",
    "            y1=y1+1\n",
    "            y.append(y1)\n",
    "            if p<0:\n",
    "                p=p+2*dx\n",
    "            else:\n",
    "                p=p+2*dx-2*dy\n",
    "                x1=x1+1\n",
    "            x.append(x1)\n",
    "            print(round(x1,2),\"\\t\",round(y1,2))\n",
    "            pixel(x1,y1)\n",
    "\n",
    "#taking input from user\n",
    "print(\"Enter the value of x1: \")\n",
    "x1=int(input())\n",
    "print(\"Enter the value of y1: \")\n",
    "y1=int(input())\n",
    "print(\"Enter the value of x2: \")\n",
    "x2=int(input())\n",
    "print(\"Enter the value of y2: \")\n",
    "y2=int(input())\n",
    "line(x1,x2,y1,y2)\n",
    "\n",
    "#displaying the plot with the required adjustments\n",
    "plt.gca().set_aspect('equal',adjustable='box')\n",
    "plt.grid()\n",
    "plt.xticks(x_axis)\n",
    "plt.yticks(y_axis)\n",
    "plt.show()"
   ]
  },
  {
   "cell_type": "code",
   "execution_count": 33,
   "metadata": {},
   "outputs": [
    {
     "data": {
      "image/png": "[encoded data removed]",
      "text/plain": [
       "<Figure size 1296x1296 with 1 Axes>"
      ]
     },
     "metadata": {
      "needs_background": "light"
     },
     "output_type": "display_data"
    }
   ],
   "source": [
    "import matplotlib.pyplot as plt\n",
    "\n",
    "#pre-requisite variables\n",
    "x_lower=-20 #lower limit of x axis\n",
    "x_upper=120 #upper limit of x axis\n",
    "y_lower=-20 #lower limit of y axis\n",
    "y_upper=120 #upper limit of y axis\n",
    "x_axis=list(range(x_lower,x_upper+1)) #list of markings for x axis\n",
    "y_axis=list(range(y_lower,y_upper+1)) #list of markings for y axis\n",
    "fig=18 #figure size of the graph\n",
    "r=max(x_upper-x_lower,y_upper-y_lower) #maximum range\n",
    "pix=55.5*fig/r #pixel size;factors figure size(f),maximum range(r);constant=55.5[calculated]\n",
    "shape='s' #pixel shape\n",
    "col='black' #pixel color\n",
    "plt.rcParams['figure.figsize'] = [fig,fig]\n",
    "plt.xlim(x_lower,x_upper)\n",
    "plt.ylim(y_lower,y_upper)\n",
    "\n",
    "#function to plot a pixel at a desired position\n",
    "def pixel(x,y):\n",
    "    plt.plot(x,y,marker=shape,ms=pix,color=col)\n",
    "    \n",
    "def line(x1,y1,x2,y2):\n",
    "    dx=x2-x1\n",
    "    dy=y2-y1\n",
    "    x=[x1]\n",
    "    y=[y1]\n",
    "    #print(\"x \\t y\")\n",
    "    #print(round(x1,2),\"\\t\",round(y1,2))\n",
    "    pixel(x1,y1)\n",
    "    if dx==0:\n",
    "        for i in range(min(y1,y2),max(y1,y2)):\n",
    "            x.append(x1)\n",
    "            y1=y1+1\n",
    "            y.append(y1)\n",
    "            #print(x1,\"\\t\",y1)\n",
    "            pixel(x1,y1)\n",
    "    elif dy==0:\n",
    "        for i in range(min(x1,x2),max(x1,x2)):\n",
    "            x1=x1+1\n",
    "            x.append(x1)\n",
    "            y.append(y1)\n",
    "            #print(x1,\"\\t\",y1)\n",
    "            pixel(x1,y1)\n",
    "    elif dy/dx>0 and dy/dx<=1:\n",
    "        p=2*dy-dx\n",
    "        for i in range(x1,x2):\n",
    "            x1=x1+1\n",
    "            x.append(x1)\n",
    "            if p<0:\n",
    "                p=p+2*dy\n",
    "            else:\n",
    "                p=p+2*dy-2*dx\n",
    "                y1=y1+1\n",
    "            y.append(y1)\n",
    "            #print(round(x1,2),\"\\t\",round(y1,2))\n",
    "            pixel(x1,y1)\n",
    "    elif dy/dx>1:\n",
    "        p=2*dx-dy\n",
    "        for i in range(y1,y2):\n",
    "            y1=y1+1\n",
    "            y.append(y1)\n",
    "            if p<0:\n",
    "                p=p+2*dx\n",
    "            else:\n",
    "                p=p+2*dx-2*dy\n",
    "                x1=x1+1\n",
    "            x.append(x1)\n",
    "            #print(round(x1,2),\"\\t\",round(y1,2))\n",
    "            pixel(x1,y1)\n",
    "    elif dy/dx<0:\n",
    "        x=[x2]\n",
    "        y=[y2]\n",
    "        x2=x1+2*dx\n",
    "        y2=y1\n",
    "        x1=x[0]\n",
    "        y1=y[0]\n",
    "        if dy/dx>=-1:\n",
    "            dy=y2-y1\n",
    "            p=2*dy-dx\n",
    "            for i in range(x1,x2):\n",
    "                x1=x1+1\n",
    "                x.append(2*x[0]-x1)\n",
    "                if p<0:\n",
    "                    p=p+2*dy\n",
    "                else:\n",
    "                    p=p+2*dy-2*dx\n",
    "                    y1=y1+1\n",
    "                y.append(y1)\n",
    "                pixel(2*x[0]-x1,y1)\n",
    "        else:\n",
    "            dx=x2-x1\n",
    "            p=2*dx-dy\n",
    "            for i in range(y1,y2):\n",
    "                y1=y1+1\n",
    "                y.append(y1)\n",
    "                if p<0:\n",
    "                    p=p+2*dx\n",
    "                else:\n",
    "                    p=p+2*dx-2*dy\n",
    "                    x1=x1+1\n",
    "                x.append(2*x[0]-x1)\n",
    "                pixel(2*x[0]-x1,y1)\n",
    "                \n",
    "#taking input from user\n",
    "line(0,0,0,100)\n",
    "line(30,70,70,70)\n",
    "line(10,50,90,50)\n",
    "line(10,50,30,70)\n",
    "line(70,70,90,50)\n",
    "line(40,0,40,50)\n",
    "line(60,0,60,50)\n",
    "\n",
    "#displaying the plot with the required adjustments\n",
    "plt.gca().set_aspect('equal',adjustable='box')\n",
    "plt.grid()\n",
    "#plt.xticks(x_axis)\n",
    "#plt.yticks(y_axis)\n",
    "plt.show()"
   ]
  },
  {
   "cell_type": "code",
   "execution_count": null,
   "metadata": {},
   "outputs": [],
   "source": []
  }
 ],
 "metadata": {
  "kernelspec": {
   "display_name": "Python 3",
   "language": "python",
   "name": "python3"
  },
  "language_info": {
   "codemirror_mode": {
    "name": "ipython",
    "version": 3
   },
   "file_extension": ".py",
   "mimetype": "text/x-python",
   "name": "python",
   "nbconvert_exporter": "python",
   "pygments_lexer": "ipython3",
   "version": "3.7.6"
  }
 },
 "nbformat": 4,
 "nbformat_minor": 4
}
