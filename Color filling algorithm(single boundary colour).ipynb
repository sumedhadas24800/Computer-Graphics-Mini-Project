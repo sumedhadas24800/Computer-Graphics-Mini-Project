{
 "cells": [
  {
   "cell_type": "code",
   "execution_count": null,
   "metadata": {},
   "outputs": [],
   "source": [
    "a=int(input(\"enter x-coordinate of ellipse:\"))\n",
    "b=int(input(\"enter y-coordinate of ellipse:\"))\n",
    "rx=int(input(\"enter x axis length:\"))\n",
    "ry=int(input(\"enter y axis length:\"))\n",
    "c=input(\"enter fill color:\")\n",
    "r=rx+ry/3\n",
    "x_lower=-1.5*rx+a #lower limit of x axis\n",
    "x_upper=1.5*rx+a #upper limit of x axis\n",
    "y_lower=-1.5*ry+b #lower limit of y axis\n",
    "y_upper=1.5*ry+b #upper limit of y axis\n",
    "fig=15 #figure size of the graph\n",
    "r=max(x_upper-x_lower,y_upper-y_lower) #maximum range\n",
    "plt.rcParams['figure.figsize']=[fig,fig]\n",
    "pix=55.5*fig/r #pixel size;factors figure size(f),maximum range(r);constant=55.5[calculated]\n",
    "rows, cols = (80, 80)\n",
    "arr = [[0]*cols]*rows\n",
    "arr = [ k.copy() for k in arr ]\n",
    "ellipse(a,b,rx,ry)\n",
    "def color_fill(x,y,c):\n",
    "    current=arr[x][y]\n",
    "    if current!=1 and current!=2:\n",
    "        plt.plot(x,y,marker=\"s\",ms=pix,color=c)\n",
    "        arr[x][y]=2\n",
    "        color_fill(x-1,y,c)\n",
    "        color_fill(x+1,y,c)\n",
    "        color_fill(x,y+1,c)\n",
    "        color_fill(x,y-1,c)"
   ]
  }
 ],
 "metadata": {
  "kernelspec": {
   "display_name": "Python 3",
   "language": "python",
   "name": "python3"
  },
  "language_info": {
   "codemirror_mode": {
    "name": "ipython",
    "version": 3
   },
   "file_extension": ".py",
   "mimetype": "text/x-python",
   "name": "python",
   "nbconvert_exporter": "python",
   "pygments_lexer": "ipython3",
   "version": "3.7.6"
  }
 },
 "nbformat": 4,
 "nbformat_minor": 4
}
